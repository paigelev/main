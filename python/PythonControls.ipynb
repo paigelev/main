{
 "cells": [
  {
   "cell_type": "markdown",
   "metadata": {},
   "source": [
    "# Python Control Statements\n",
    "The so-called \"control statments\" allow the inputted and/or calculated values in the program to determine the next command executed. `if`, `for`, and `while` statements all fall under the category of control statements. \n",
    "## `if` statements\n",
    "`if` statements test a condition and then executes a command depending on whether that condition returns `true` (1) or `false` (0). An `if` can be supplemented with a `else` or and `elsif` for further refinement.\n"
   ]
  },
  {
   "cell_type": "code",
   "execution_count": null,
   "metadata": {},
   "outputs": [],
   "source": [
    "z= 4;\n",
    "if z % 2==0:\n",
    "    print(\"z is even\")"
   ]
  },
  {
   "cell_type": "code",
   "execution_count": null,
   "metadata": {},
   "outputs": [],
   "source": [
    "z= 4;\n",
    "if z % 2==0:\n",
    "    print(\"z is even\")\n",
    "else:\n",
    "    print(\"z is odd\")"
   ]
  },
  {
   "cell_type": "code",
   "execution_count": null,
   "metadata": {},
   "outputs": [],
   "source": [
    "room = \"liv\"\n",
    "area = 19\n",
    "if room ==\"kit\":\n",
    "    print(\"Looking in the kitchen\")\n",
    "elif room==\"bed\":\n",
    "    print(\"Looking in the bedroom\")\n",
    "elif room==\"liv\":\n",
    "    print(\"Looking in the living room\")\n",
    "else:\n",
    "    print(\"Looking elsewhere\")\n",
    "\n",
    "if area>15:\n",
    "    print(\"The \" +room+ \" is pretty big\")\n",
    "else:\n",
    "    print(\"The \"+room+ \" looks pretty small\")"
   ]
  },
  {
   "cell_type": "markdown",
   "metadata": {},
   "source": [
    "## `for` Loop\n",
    "A `for` loop is used to iterate over a sequence, or perform the same operation on a set of data. Most programming languages have another method of iterating over an arrays, lists, or dictionaries, but a `for` statement is still needed in some cases."
   ]
  },
  {
   "cell_type": "code",
   "execution_count": null,
   "metadata": {},
   "outputs": [],
   "source": [
    "for k in range(1,11):\n",
    "    print(str(k) + \" Mississippi!\")"
   ]
  },
  {
   "cell_type": "code",
   "execution_count": null,
   "metadata": {},
   "outputs": [],
   "source": [
    "electoral = {\"Alabama\":9,\"Alaska\":3,\"Arizona\":11,\"Arkansas\":6,\"California\":55,\"Colorado\":9,\"Connecticut\":7,\"Delaware\":3,\"District of Columbia\":3,\"Florida\":29,\"Georgia\":16,\"Hawaii\":4,\"Idaho\":4,\"Illinois\":20,\"Indiana\":11,\"Iowa\":6,\"Kansas\":6,\"Kentucky\":8,\"Louisiana\":8,\"Maine\":4,\"Maryland\":10,\"Massachusetts\": 11,\"Michigan\":16,\"Minnesota\":10,\"Mississippi\":6,\"Missouri\":10,\"Montana\":3,\"Nebraska\":5,\"Nevada\":6,\"New Hampshire\":4,\"New Jersey\":14,\"New Mexico\":5,\"New York\":29,\"North Carolina\":15,\"North Dakota\":3,\"Ohio\":18,\"Oklahoma\":7,\"Oregon\":7,\"Pennsylvania\":20,\"Rhode Island\":4,\"South Carolina\":9,\"South Dakota\":3,\"Tennessee\":11,\"Texas\":38,\"Utah\":6,\"Vermont\":3,\"Virginia\":13,\"Washington\":12,\"West Virginia\":5,\"Wisconsin\":10,\"Wyoming\":3}"
   ]
  },
  {
   "cell_type": "code",
   "execution_count": null,
   "metadata": {},
   "outputs": [],
   "source": [
    "s = 0\n",
    "for k in electoral.keys():\n",
    "    if electoral[k]>20:\n",
    "        s=electoral[k]+s      \n",
    "print(s)        \n",
    "    "
   ]
  },
  {
   "cell_type": "markdown",
   "metadata": {},
   "source": [
    "## `while` Loop\n",
    "`while` statements will execute a set of commands until a specified condition is satisfied. In Python, you may include an `else` statement that executes after the while loop is done."
   ]
  },
  {
   "cell_type": "code",
   "execution_count": null,
   "metadata": {},
   "outputs": [],
   "source": [
    "k=0\n",
    "while k<8:\n",
    "    k = k + 1;\n",
    "    print(k)"
   ]
  },
  {
   "cell_type": "code",
   "execution_count": null,
   "metadata": {},
   "outputs": [],
   "source": [
    "k=0\n",
    "while k<8:\n",
    "    k = k + 1;\n",
    "    print(k)\n",
    "else:\n",
    "    print(\"now I counted to \"+str(k))"
   ]
  },
  {
   "cell_type": "code",
   "execution_count": null,
   "metadata": {},
   "outputs": [],
   "source": [
    "sortedvotes = sorted(electoral.items(), key=lambda x: x[1], reverse=True)\n",
    "print(sortedvotes)"
   ]
  },
  {
   "cell_type": "code",
   "execution_count": null,
   "metadata": {},
   "outputs": [],
   "source": [
    "s=0;\n",
    "k=0;\n",
    "while s<271:\n",
    "    s = sortedvotes[k][1] +s\n",
    "    print(sortedvotes[k][0])\n",
    "    k=k+1\n",
    "else: \n",
    "    print(\"It only takes \"+str(k)+ \" states to win the Presidency\")"
   ]
  }
 ],
 "metadata": {
  "kernelspec": {
   "display_name": "Python 3",
   "language": "python",
   "name": "python3"
  },
  "language_info": {
   "codemirror_mode": {
    "name": "ipython",
    "version": 3
   },
   "file_extension": ".py",
   "mimetype": "text/x-python",
   "name": "python",
   "nbconvert_exporter": "python",
   "pygments_lexer": "ipython3",
   "version": "3.8.3"
  }
 },
 "nbformat": 4,
 "nbformat_minor": 4
}
