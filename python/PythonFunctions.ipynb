{
 "cells": [
  {
   "cell_type": "markdown",
   "metadata": {},
   "source": [
    "# Functions in Python\n",
    "Python handles functions much like MATLAB. Python function definitions allow you to specify input and output arguments. You can save functions to a file and call them from other scripts, notebooks, or functions that you write. \n",
    "To define a function in Python use the following syntax:\n",
    "\n",
    "``` python\n",
    "def func1(input1, input2,...):\n",
    "    indented code statements\n",
    "    return output(s)\n",
    "```\n",
    "### Keep in mind, indentation is **everything in Python**. The function ends whenever the indentation ends. \n",
    "\n",
    "Several aspects of implementing functions in Python are different from MATLAB. Unlike MATLAB, you can have as many function definitions in one file as you like. You can then *import* this file just as you would import a package/module, such as `numpy` or `matplotlib`. For example, `fsatellite.py` is a file that contains several functions around our satellite problems. We can load it: "
   ]
  },
  {
   "cell_type": "code",
   "execution_count": null,
   "metadata": {},
   "outputs": [],
   "source": [
    "import fsatellite as fst"
   ]
  },
  {
   "cell_type": "markdown",
   "metadata": {},
   "source": [
    "I should note here that this is not the only way to load functions from a file in Python. You can also load specific functions:\n",
    "```python\n",
    "from fsatellite import satellite\n",
    "```\n",
    "after which you may call the function like any other `satellite(arg1,...)`\n",
    "You can load all functions from a file\n",
    "```python\n",
    "from fsatellite import *\n",
    "```\n",
    "after which you may again call any function in `fsatellite` like any other function `alt(h)`. It should be noted, however, that loading files like this will increase the chances of *overloading* functions (where two functions have the same name and then order of precedence must be considered).\n",
    "\n",
    "We can now use any functions defined with within this file like"
   ]
  },
  {
   "cell_type": "code",
   "execution_count": null,
   "metadata": {},
   "outputs": [],
   "source": [
    "h,v = fst.satellite(6)\n",
    "print(h)\n",
    "print(v)\n",
    "fst.satellite(6,1, \"hr\")"
   ]
  },
  {
   "cell_type": "markdown",
   "metadata": {},
   "source": [
    "We can even use any function defined within the file. Let's open the file and print the contents,"
   ]
  },
  {
   "cell_type": "code",
   "execution_count": null,
   "metadata": {},
   "outputs": [],
   "source": [
    "f = open('fsatellite.py','r')\n",
    "print(f.read())\n",
    "f.close()"
   ]
  },
  {
   "cell_type": "code",
   "execution_count": null,
   "metadata": {},
   "outputs": [],
   "source": [
    "fst.orbvel(50000)"
   ]
  },
  {
   "cell_type": "markdown",
   "metadata": {},
   "source": [
    "# Take home messages about Python Functions\n",
    "There are several things that you should notice about the function file above:\n",
    "* Everything that happens above the first function definition is global, (any function can use it). This is useful when many separate functions need similar data.\n",
    "* Functions can call other functions within the same file. The ordering of the functions doesn't matter.\n",
    "*  `lambda` functions are Python's 'anonymous functions', functions that are defined in 1 line. The syntax is used in `fsatellite.py` to define `mtokm`\n",
    "```python\n",
    "mtokm = lambda x: x/1000;\n",
    "```\n",
    "\n",
    "* Default arguments are defined in the function definition using `=` sign (not an assignment operator unless there is no input argurment in its place). You may set default values for any of your arguments, but cannot skip arguments in your functions calls.\n",
    "```python\n",
    "def satellite(T,grph = 0,un='hr'):\n",
    "```\n",
    "That is you cannot call satellite using a call of `satellite(3.5, , \"day\")` and hope that the default argument for `grph` will be used (because it won't). "
   ]
  },
  {
   "cell_type": "code",
   "execution_count": null,
   "metadata": {},
   "outputs": [],
   "source": [
    "fst.satellite(3.5, , \"day\")"
   ]
  }
 ],
 "metadata": {
  "kernelspec": {
   "display_name": "Python 3",
   "language": "python",
   "name": "python3"
  },
  "language_info": {
   "codemirror_mode": {
    "name": "ipython",
    "version": 3
   },
   "file_extension": ".py",
   "mimetype": "text/x-python",
   "name": "python",
   "nbconvert_exporter": "python",
   "pygments_lexer": "ipython3",
   "version": "3.8.3"
  }
 },
 "nbformat": 4,
 "nbformat_minor": 2
}
