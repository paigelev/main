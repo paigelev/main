{
 "cells": [
  {
   "cell_type": "markdown",
   "metadata": {},
   "source": [
    "# Input and Output in Python\n",
    "Inputting data into a program can be the most time intensive activity. Python contains a number of packages designed to import and export data with minimum effort and code. The most popular package these days is *pandas*. (I have included a pandas cheat sheet in the `main` repository). You should note that a single backslash does not work when specifying a file path in Python. You need to use aforward slash or add one more backslash as shown in my code below.\n",
    "All the functions below will return a `dataframe`, an object in Python that stores data and allows access with a certain syntax that I often refer to as \"dot notation\"."
   ]
  },
  {
   "cell_type": "code",
   "execution_count": null,
   "metadata": {},
   "outputs": [],
   "source": [
    "# This code is used to navigate the file structure of main\n",
    "import os as os\n",
    "cwdup = os.path.split(os.getcwd())\n",
    "os.chdir(cwdup[0])"
   ]
  },
  {
   "cell_type": "code",
   "execution_count": null,
   "metadata": {
    "scrolled": true
   },
   "outputs": [],
   "source": [
    "import pandas as pd\n",
    "datfile = \"data\\\\statepop.mat\"\n",
    "txtfile = \"data\\\\GlobalTempbyYear.txt\"\n",
    "csvfile = \"data\\\\sunspotsbyyear.csv\"\n",
    "xlsfile = \"data\\\\GlobalCarbonBudget2018.xlsx\""
   ]
  },
  {
   "cell_type": "code",
   "execution_count": null,
   "metadata": {
    "scrolled": true
   },
   "outputs": [],
   "source": [
    "datfile"
   ]
  },
  {
   "cell_type": "markdown",
   "metadata": {},
   "source": [
    "## Read text and *csv* files\n",
    "We can use the `read_table()` function to pull data from text file. You could also use the `read_csv()` with `sep= \"\\t\"` to read data from tab-separated file or with `sep=\\s+` for space separated values. By default, python will look for a header row unless otherwise specified. `pandas` imports data from the files as `dataframes`."
   ]
  },
  {
   "cell_type": "code",
   "execution_count": null,
   "metadata": {
    "scrolled": true
   },
   "outputs": [],
   "source": [
    "txt1 = pd.read_table(txtfile, header=None,names='a')\n",
    "txt2 = pd.read_csv(txtfile,header=None,sep='\\s+')\n",
    "csv1 = pd.read_csv(csvfile,header=None)\n",
    "csv2 = pd.read_csv(csvfile,header=None,names = ['year', 'numspots', 'stdev','Nobs','confirmed'])"
   ]
  },
  {
   "cell_type": "code",
   "execution_count": null,
   "metadata": {
    "scrolled": true
   },
   "outputs": [],
   "source": [
    "csv2['year']\n",
    "txt1.a[1:5]"
   ]
  },
  {
   "cell_type": "markdown",
   "metadata": {},
   "source": [
    "You can even add column names while loading the file:"
   ]
  },
  {
   "cell_type": "markdown",
   "metadata": {},
   "source": [
    "If you look at csvfile, you'll see some columns with `-1` as a value; this indicates *missing data*. Classifying your missing data properly will help you avoid accidential using the value in a calculation. You can specify this with another option:"
   ]
  },
  {
   "cell_type": "code",
   "execution_count": null,
   "metadata": {
    "scrolled": true
   },
   "outputs": [],
   "source": [
    "csv3 = pd.read_csv(csvfile,header=None,names = ['year', 'numspots', 'stdev','Nobs','confirmed'],na_values=['-1'])\n",
    "csv3.stdev\n",
    "csv3['stdev']"
   ]
  },
  {
   "cell_type": "markdown",
   "metadata": {},
   "source": [
    "## Reading Excel files\n",
    "Python will read excel files in the same manner as MATLAB. You can specify sheets and column/row in which to import. "
   ]
  },
  {
   "cell_type": "code",
   "execution_count": null,
   "metadata": {
    "scrolled": true
   },
   "outputs": [],
   "source": [
    "xcel1 = pd.read_excel(xlsfile,sheet_name=\"Global Carbon Budget\", skiprows=21,header=None)"
   ]
  },
  {
   "cell_type": "code",
   "execution_count": null,
   "metadata": {},
   "outputs": [],
   "source": [
    "xcel1"
   ]
  },
  {
   "cell_type": "markdown",
   "metadata": {},
   "source": [
    "## Reading `npy` files\n",
    "`npy` files are `numpy` type data files used to recreate arrays in Python. The syntax to save and load one of these files is\n",
    "```python\n",
    "import numpy as np\n",
    "np.load('filename.npy')\n",
    "np.save('filename.npy')\n",
    "\n",
    "```"
   ]
  },
  {
   "cell_type": "markdown",
   "metadata": {},
   "source": [
    "## Reading `mat` files\n",
    "You can even read in `.mat` files that are created from MATLAB. You have to use the `scipy.io` module, which contains other useful input/output functions as well. Once loaded, you can access the MATLAB variables using a syntax you've seen before:\n",
    "\n",
    "    mat1[<variablename>]"
   ]
  },
  {
   "cell_type": "code",
   "execution_count": null,
   "metadata": {
    "scrolled": true
   },
   "outputs": [],
   "source": [
    "import scipy.io as sio\n",
    "mat1 = sio.loadmat(datfile)\n",
    "print(mat1.keys())\n",
    "print(mat1['ev'])\n",
    "2*mat1['ev']"
   ]
  },
  {
   "cell_type": "markdown",
   "metadata": {},
   "source": [
    "## Writing to a Plain Text file\n",
    "Python contains builtin functions to output information to a plain text file. It involves opening a file to write to, writing to that file, and then closing said file. "
   ]
  },
  {
   "cell_type": "code",
   "execution_count": null,
   "metadata": {
    "scrolled": true
   },
   "outputs": [],
   "source": [
    "f= open(\"test1.txt\",\"w+\")\n",
    "f.write(txt1)\n",
    "f.write('\\n')\n",
    "f.close()"
   ]
  },
  {
   "cell_type": "markdown",
   "metadata": {},
   "source": [
    "You may also append a file (add to it without overwriting)."
   ]
  },
  {
   "cell_type": "code",
   "execution_count": null,
   "metadata": {
    "scrolled": true
   },
   "outputs": [],
   "source": [
    "f= open(\"test1.txt\",\"a+\")\n",
    "f.write(txt1.a[2])\n",
    "f.write('\\n')\n",
    "f.close()"
   ]
  },
  {
   "cell_type": "markdown",
   "metadata": {},
   "source": [
    "## Writing to an Excel file\n",
    "`pandas` contains a function that allows you to write data to a Microsoft Excel file when using the function `ExcelWriter`. This function requires some groundwork as shown below:  "
   ]
  },
  {
   "cell_type": "code",
   "execution_count": null,
   "metadata": {
    "scrolled": true
   },
   "outputs": [],
   "source": [
    "# Create a Pandas Excel writer using XlsxWriter as the engine.\n",
    "writer = pd.ExcelWriter('pandas_simple.xlsx', engine='xlsxwriter')\n",
    "\n",
    "# Convert a dataframe to an XlsxWriter Excel object.\n",
    "csv1.to_excel(writer, sheet_name='temps')\n",
    "csv3.to_excel(writer,sheet_name='temptitles')\n",
    "# Close the Pandas Excel writer and output the Excel file.\n",
    "writer.save()\n",
    "\n",
    "# Get the xlsxwriter objects from the dataframe writer object. \n",
    "#Not strictly needed to write to excel file, only if you want to get in the weeds about the writer object\n",
    "workbook  = writer.book\n",
    "worksheet = writer.sheets['temps']\n",
    "worksheet1 = writer.sheets['temptitles']\n",
    "\n",
    "writer.sheets"
   ]
  },
  {
   "cell_type": "markdown",
   "metadata": {},
   "source": [
    "# Example using Pandas for data munging"
   ]
  },
  {
   "cell_type": "code",
   "execution_count": null,
   "metadata": {
    "scrolled": false
   },
   "outputs": [],
   "source": [
    "# read table\n",
    "df = pd.read_table('data/GlobalTempbyMonth.txt', header=None, index_col=0, sep='\\s+')"
   ]
  },
  {
   "cell_type": "code",
   "execution_count": null,
   "metadata": {},
   "outputs": [],
   "source": [
    "# show data\n",
    "df"
   ]
  },
  {
   "cell_type": "code",
   "execution_count": null,
   "metadata": {},
   "outputs": [],
   "source": [
    "# show index\n",
    "df.index"
   ]
  },
  {
   "cell_type": "code",
   "execution_count": null,
   "metadata": {},
   "outputs": [],
   "source": [
    "# add new columns\n",
    "df['average'] = df.mean(axis=1)\n",
    "df['min'] = df.min(axis=1)\n",
    "df['max'] = df.max(axis=1)"
   ]
  },
  {
   "cell_type": "code",
   "execution_count": null,
   "metadata": {},
   "outputs": [],
   "source": [
    "# sort by average\n",
    "df2 = df.sort_values(by='average')"
   ]
  },
  {
   "cell_type": "code",
   "execution_count": null,
   "metadata": {},
   "outputs": [],
   "source": [
    "df2"
   ]
  },
  {
   "cell_type": "code",
   "execution_count": null,
   "metadata": {},
   "outputs": [],
   "source": [
    "# get a certain column\n",
    "df.average"
   ]
  },
  {
   "cell_type": "code",
   "execution_count": null,
   "metadata": {},
   "outputs": [],
   "source": [
    "# boolean indexing\n",
    "df[df.average>0.9]"
   ]
  },
  {
   "cell_type": "code",
   "execution_count": null,
   "metadata": {},
   "outputs": [],
   "source": [
    "# group by year and calculate the average temperature\n",
    "df['year'] = list(map(lambda x:x[:4], df.index))\n",
    "year_average = df.groupby(df.year).average.mean()\n",
    "year_average"
   ]
  },
  {
   "cell_type": "code",
   "execution_count": null,
   "metadata": {},
   "outputs": [],
   "source": [
    "df.index"
   ]
  }
 ],
 "metadata": {
  "kernelspec": {
   "display_name": "Python 3",
   "language": "python",
   "name": "python3"
  },
  "language_info": {
   "codemirror_mode": {
    "name": "ipython",
    "version": 3
   },
   "file_extension": ".py",
   "mimetype": "text/x-python",
   "name": "python",
   "nbconvert_exporter": "python",
   "pygments_lexer": "ipython3",
   "version": "3.8.3"
  }
 },
 "nbformat": 4,
 "nbformat_minor": 2
}
